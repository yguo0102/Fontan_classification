{
 "cells": [
  {
   "cell_type": "code",
   "execution_count": 1,
   "id": "c3fb8a07",
   "metadata": {},
   "outputs": [
    {
     "name": "stdout",
     "output_type": "stream",
     "text": [
      "Defaulting to user installation because normal site-packages is not writeable\n",
      "Requirement already satisfied: simpletransformers in /opt/rh/rh-python36/root/usr/lib/python3.6/site-packages (0.51.3)\n",
      "Requirement already satisfied: tensorboardx in /opt/rh/rh-python36/root/usr/lib/python3.6/site-packages (from simpletransformers) (2.0)\n",
      "Requirement already satisfied: seqeval in /opt/rh/rh-python36/root/usr/lib/python3.6/site-packages (from simpletransformers) (0.0.12)\n",
      "Requirement already satisfied: sentencepiece in /opt/rh/rh-python36/root/usr/lib64/python3.6/site-packages (from simpletransformers) (0.1.91)\n",
      "Requirement already satisfied: scipy in /opt/rh/rh-python36/root/usr/lib64/python3.6/site-packages (from simpletransformers) (1.4.1)\n",
      "Requirement already satisfied: scikit-learn in /opt/rh/rh-python36/root/usr/lib64/python3.6/site-packages (from simpletransformers) (0.24.1)\n",
      "Requirement already satisfied: streamlit in /opt/rh/rh-python36/root/usr/lib/python3.6/site-packages (from simpletransformers) (0.66.0)\n",
      "Requirement already satisfied: regex in /opt/rh/rh-python36/root/usr/lib64/python3.6/site-packages (from simpletransformers) (2018.1.10)\n",
      "Requirement already satisfied: numpy in /opt/rh/rh-python36/root/usr/lib64/python3.6/site-packages (from simpletransformers) (1.17.5)\n",
      "Requirement already satisfied: tokenizers in /opt/rh/rh-python36/root/usr/lib64/python3.6/site-packages (from simpletransformers) (0.10.2)\n",
      "Requirement already satisfied: pandas in /opt/rh/rh-python36/root/usr/lib64/python3.6/site-packages (from simpletransformers) (1.1.4)\n",
      "Requirement already satisfied: tqdm>=4.47.0 in /opt/rh/rh-python36/root/usr/lib/python3.6/site-packages (from simpletransformers) (4.48.2)\n",
      "Requirement already satisfied: transformers>=4.0.0 in /opt/rh/rh-python36/root/usr/lib/python3.6/site-packages (from simpletransformers) (4.5.1)\n",
      "Requirement already satisfied: wandb in /opt/rh/rh-python36/root/usr/lib/python3.6/site-packages (from simpletransformers) (0.9.6)\n",
      "Requirement already satisfied: requests in /opt/rh/rh-python36/root/usr/lib/python3.6/site-packages (from simpletransformers) (2.25.0)\n",
      "Requirement already satisfied: packaging in /opt/rh/rh-python36/root/usr/lib/python3.6/site-packages (from transformers>=4.0.0->simpletransformers) (21.0)\n",
      "Requirement already satisfied: importlib-metadata in /opt/rh/rh-python36/root/usr/lib/python3.6/site-packages (from transformers>=4.0.0->simpletransformers) (1.3.0)\n",
      "Requirement already satisfied: dataclasses in /opt/rh/rh-python36/root/usr/lib/python3.6/site-packages (from transformers>=4.0.0->simpletransformers) (0.7)\n",
      "Requirement already satisfied: filelock in /opt/rh/rh-python36/root/usr/lib/python3.6/site-packages (from transformers>=4.0.0->simpletransformers) (3.0.12)\n",
      "Requirement already satisfied: sacremoses in /opt/rh/rh-python36/root/usr/lib/python3.6/site-packages (from transformers>=4.0.0->simpletransformers) (0.0.38)\n",
      "Requirement already satisfied: zipp>=0.5 in /opt/rh/rh-python36/root/usr/lib/python3.6/site-packages (from importlib-metadata->transformers>=4.0.0->simpletransformers) (3.4.1)\n",
      "Requirement already satisfied: pyparsing>=2.0.2 in /opt/rh/rh-python36/root/usr/lib/python3.6/site-packages (from packaging->transformers>=4.0.0->simpletransformers) (2.2.2)\n",
      "Requirement already satisfied: python-dateutil>=2.7.3 in /opt/rh/rh-python36/root/usr/lib/python3.6/site-packages (from pandas->simpletransformers) (2.7.3)\n",
      "Requirement already satisfied: pytz>=2017.2 in /opt/rh/rh-python36/root/usr/lib/python3.6/site-packages (from pandas->simpletransformers) (2018.7)\n",
      "Requirement already satisfied: six>=1.5 in /opt/rh/rh-python36/root/usr/lib/python3.6/site-packages (from python-dateutil>=2.7.3->pandas->simpletransformers) (1.15.0)\n",
      "Requirement already satisfied: certifi>=2017.4.17 in /opt/rh/rh-python36/root/usr/lib/python3.6/site-packages (from requests->simpletransformers) (2018.1.18)\n",
      "Requirement already satisfied: idna<3,>=2.5 in /opt/rh/rh-python36/root/usr/lib/python3.6/site-packages (from requests->simpletransformers) (2.10)\n",
      "Requirement already satisfied: urllib3<1.27,>=1.21.1 in /opt/rh/rh-python36/root/usr/lib/python3.6/site-packages (from requests->simpletransformers) (1.26.2)\n",
      "Requirement already satisfied: chardet<4,>=3.0.2 in /opt/rh/rh-python36/root/usr/lib/python3.6/site-packages (from requests->simpletransformers) (3.0.4)\n",
      "Requirement already satisfied: click in /opt/rh/rh-python36/root/usr/lib/python3.6/site-packages (from sacremoses->transformers>=4.0.0->simpletransformers) (7.0)\n",
      "Requirement already satisfied: joblib in /opt/rh/rh-python36/root/usr/lib/python3.6/site-packages (from sacremoses->transformers>=4.0.0->simpletransformers) (0.14.1)\n",
      "Requirement already satisfied: threadpoolctl>=2.0.0 in /opt/rh/rh-python36/root/usr/lib/python3.6/site-packages (from scikit-learn->simpletransformers) (2.1.0)\n",
      "Requirement already satisfied: Keras>=2.2.4 in /opt/rh/rh-python36/root/usr/lib/python3.6/site-packages (from seqeval->simpletransformers) (2.2.4)\n",
      "Requirement already satisfied: h5py in /opt/rh/rh-python36/root/usr/lib64/python3.6/site-packages (from Keras>=2.2.4->seqeval->simpletransformers) (2.10.0)\n",
      "Requirement already satisfied: keras-preprocessing>=1.0.5 in /opt/rh/rh-python36/root/usr/lib/python3.6/site-packages (from Keras>=2.2.4->seqeval->simpletransformers) (1.1.2)\n",
      "Requirement already satisfied: keras-applications>=1.0.6 in /opt/rh/rh-python36/root/usr/lib/python3.6/site-packages (from Keras>=2.2.4->seqeval->simpletransformers) (1.0.8)\n",
      "Requirement already satisfied: pyyaml in /opt/rh/rh-python36/root/usr/lib64/python3.6/site-packages (from Keras>=2.2.4->seqeval->simpletransformers) (5.3)\n",
      "Requirement already satisfied: validators in /opt/rh/rh-python36/root/usr/lib/python3.6/site-packages (from streamlit->simpletransformers) (0.18.1)\n",
      "Requirement already satisfied: cachetools>=4.0 in /opt/rh/rh-python36/root/usr/lib/python3.6/site-packages (from streamlit->simpletransformers) (4.1.1)\n",
      "Requirement already satisfied: enum-compat in /opt/rh/rh-python36/root/usr/lib/python3.6/site-packages (from streamlit->simpletransformers) (0.0.3)\n",
      "Requirement already satisfied: toml in /opt/rh/rh-python36/root/usr/lib/python3.6/site-packages (from streamlit->simpletransformers) (0.10.1)\n",
      "Requirement already satisfied: astor in /opt/rh/rh-python36/root/usr/lib/python3.6/site-packages (from streamlit->simpletransformers) (0.6.2)\n",
      "Requirement already satisfied: protobuf>=3.6.0 in /opt/rh/rh-python36/root/usr/lib64/python3.6/site-packages (from streamlit->simpletransformers) (3.14.0)\n",
      "Requirement already satisfied: boto3 in /opt/rh/rh-python36/root/usr/lib/python3.6/site-packages (from streamlit->simpletransformers) (1.16.35)\n",
      "Requirement already satisfied: altair>=3.2.0 in /opt/rh/rh-python36/root/usr/lib/python3.6/site-packages (from streamlit->simpletransformers) (4.1.0)\n",
      "Requirement already satisfied: blinker in /opt/rh/rh-python36/root/usr/lib/python3.6/site-packages (from streamlit->simpletransformers) (1.4)\n",
      "Requirement already satisfied: tornado>=5.0 in /opt/rh/rh-python36/root/usr/lib64/python3.6/site-packages (from streamlit->simpletransformers) (6.1)\n",
      "Requirement already satisfied: tzlocal in /opt/rh/rh-python36/root/usr/lib/python3.6/site-packages (from streamlit->simpletransformers) (2.1)\n",
      "Requirement already satisfied: watchdog in /opt/rh/rh-python36/root/usr/lib/python3.6/site-packages (from streamlit->simpletransformers) (0.10.3)\n",
      "Requirement already satisfied: pydeck>=0.1.dev5 in /opt/rh/rh-python36/root/usr/lib/python3.6/site-packages (from streamlit->simpletransformers) (0.5.0b1)\n",
      "Requirement already satisfied: botocore>=1.13.44 in /opt/rh/rh-python36/root/usr/lib/python3.6/site-packages (from streamlit->simpletransformers) (1.19.35)\n",
      "Requirement already satisfied: pyarrow in /opt/rh/rh-python36/root/usr/lib64/python3.6/site-packages (from streamlit->simpletransformers) (0.12.1)\n",
      "Requirement already satisfied: base58 in /opt/rh/rh-python36/root/usr/lib/python3.6/site-packages (from streamlit->simpletransformers) (2.0.1)\n",
      "Requirement already satisfied: pillow>=6.2.0 in /opt/rh/rh-python36/root/usr/lib64/python3.6/site-packages (from streamlit->simpletransformers) (7.2.0)\n",
      "Requirement already satisfied: entrypoints in /opt/rh/rh-python36/root/usr/lib/python3.6/site-packages (from altair>=3.2.0->streamlit->simpletransformers) (0.2.3)\n",
      "Requirement already satisfied: jinja2 in /opt/rh/rh-python36/root/usr/lib/python3.6/site-packages (from altair>=3.2.0->streamlit->simpletransformers) (2.11.1)\n",
      "Requirement already satisfied: jsonschema in /opt/rh/rh-python36/root/usr/lib/python3.6/site-packages (from altair>=3.2.0->streamlit->simpletransformers) (3.2.0)\n",
      "Requirement already satisfied: toolz in /opt/rh/rh-python36/root/usr/lib/python3.6/site-packages (from altair>=3.2.0->streamlit->simpletransformers) (0.9.0)\n",
      "Requirement already satisfied: jmespath<1.0.0,>=0.7.1 in /opt/rh/rh-python36/root/usr/lib/python3.6/site-packages (from botocore>=1.13.44->streamlit->simpletransformers) (0.9.4)\n",
      "Requirement already satisfied: ipykernel>=5.1.2 in /opt/rh/rh-python36/root/usr/lib/python3.6/site-packages (from pydeck>=0.1.dev5->streamlit->simpletransformers) (5.3.4)\n",
      "Requirement already satisfied: ipywidgets>=7.0.0 in /opt/rh/rh-python36/root/usr/lib/python3.6/site-packages (from pydeck>=0.1.dev5->streamlit->simpletransformers) (7.4.1)\n",
      "Requirement already satisfied: traitlets>=4.3.2 in /opt/rh/rh-python36/root/usr/lib/python3.6/site-packages (from pydeck>=0.1.dev5->streamlit->simpletransformers) (4.3.2)\n",
      "Requirement already satisfied: jupyter-client in /opt/rh/rh-python36/root/usr/lib/python3.6/site-packages (from ipykernel>=5.1.2->pydeck>=0.1.dev5->streamlit->simpletransformers) (6.1.12)\n",
      "Requirement already satisfied: ipython>=5.0.0 in /opt/rh/rh-python36/root/usr/lib/python3.6/site-packages (from ipykernel>=5.1.2->pydeck>=0.1.dev5->streamlit->simpletransformers) (6.5.0)\n",
      "Requirement already satisfied: pexpect in /opt/rh/rh-python36/root/usr/lib/python3.6/site-packages (from ipython>=5.0.0->ipykernel>=5.1.2->pydeck>=0.1.dev5->streamlit->simpletransformers) (4.6.0)\n",
      "Requirement already satisfied: simplegeneric>0.8 in /opt/rh/rh-python36/root/usr/lib/python3.6/site-packages (from ipython>=5.0.0->ipykernel>=5.1.2->pydeck>=0.1.dev5->streamlit->simpletransformers) (0.8.1)\n",
      "Requirement already satisfied: pygments in /opt/rh/rh-python36/root/usr/lib/python3.6/site-packages (from ipython>=5.0.0->ipykernel>=5.1.2->pydeck>=0.1.dev5->streamlit->simpletransformers) (2.8.1)\n",
      "Requirement already satisfied: decorator in /opt/rh/rh-python36/root/usr/lib/python3.6/site-packages (from ipython>=5.0.0->ipykernel>=5.1.2->pydeck>=0.1.dev5->streamlit->simpletransformers) (4.3.2)\n",
      "Requirement already satisfied: backcall in /opt/rh/rh-python36/root/usr/lib/python3.6/site-packages (from ipython>=5.0.0->ipykernel>=5.1.2->pydeck>=0.1.dev5->streamlit->simpletransformers) (0.1.0)\n",
      "Requirement already satisfied: pickleshare in /opt/rh/rh-python36/root/usr/lib/python3.6/site-packages (from ipython>=5.0.0->ipykernel>=5.1.2->pydeck>=0.1.dev5->streamlit->simpletransformers) (0.7.4)\n",
      "Requirement already satisfied: jedi>=0.10 in /opt/rh/rh-python36/root/usr/lib/python3.6/site-packages (from ipython>=5.0.0->ipykernel>=5.1.2->pydeck>=0.1.dev5->streamlit->simpletransformers) (0.12.1)\n",
      "Requirement already satisfied: setuptools>=18.5 in /opt/rh/rh-python36/root/usr/lib/python3.6/site-packages (from ipython>=5.0.0->ipykernel>=5.1.2->pydeck>=0.1.dev5->streamlit->simpletransformers) (57.4.0)\n",
      "Requirement already satisfied: prompt-toolkit<2.0.0,>=1.0.15 in /opt/rh/rh-python36/root/usr/lib/python3.6/site-packages (from ipython>=5.0.0->ipykernel>=5.1.2->pydeck>=0.1.dev5->streamlit->simpletransformers) (1.0.15)\n",
      "Requirement already satisfied: nbformat>=4.2.0 in /opt/rh/rh-python36/root/usr/lib/python3.6/site-packages (from ipywidgets>=7.0.0->pydeck>=0.1.dev5->streamlit->simpletransformers) (5.1.3)\n",
      "Requirement already satisfied: widgetsnbextension~=3.4.0 in /opt/rh/rh-python36/root/usr/lib/python3.6/site-packages (from ipywidgets>=7.0.0->pydeck>=0.1.dev5->streamlit->simpletransformers) (3.4.1)\n",
      "Requirement already satisfied: parso>=0.3.0 in /opt/rh/rh-python36/root/usr/lib/python3.6/site-packages (from jedi>=0.10->ipython>=5.0.0->ipykernel>=5.1.2->pydeck>=0.1.dev5->streamlit->simpletransformers) (0.3.1)\n",
      "Requirement already satisfied: MarkupSafe>=0.23 in /opt/rh/rh-python36/root/usr/lib64/python3.6/site-packages (from jinja2->altair>=3.2.0->streamlit->simpletransformers) (1.0)\n",
      "Requirement already satisfied: jupyter-core in /opt/rh/rh-python36/root/usr/lib/python3.6/site-packages (from nbformat>=4.2.0->ipywidgets>=7.0.0->pydeck>=0.1.dev5->streamlit->simpletransformers) (4.7.1)\n",
      "Requirement already satisfied: ipython-genutils in /opt/rh/rh-python36/root/usr/lib/python3.6/site-packages (from nbformat>=4.2.0->ipywidgets>=7.0.0->pydeck>=0.1.dev5->streamlit->simpletransformers) (0.2.0)\n",
      "Requirement already satisfied: attrs>=17.4.0 in /opt/rh/rh-python36/root/usr/lib/python3.6/site-packages (from jsonschema->altair>=3.2.0->streamlit->simpletransformers) (19.1.0)\n",
      "Requirement already satisfied: pyrsistent>=0.14.0 in /opt/rh/rh-python36/root/usr/lib64/python3.6/site-packages (from jsonschema->altair>=3.2.0->streamlit->simpletransformers) (0.18.0)\n",
      "Requirement already satisfied: wcwidth in /opt/rh/rh-python36/root/usr/lib/python3.6/site-packages (from prompt-toolkit<2.0.0,>=1.0.15->ipython>=5.0.0->ipykernel>=5.1.2->pydeck>=0.1.dev5->streamlit->simpletransformers) (0.1.7)\n",
      "Requirement already satisfied: notebook>=4.4.1 in /opt/rh/rh-python36/root/usr/lib/python3.6/site-packages (from widgetsnbextension~=3.4.0->ipywidgets>=7.0.0->pydeck>=0.1.dev5->streamlit->simpletransformers) (6.4.6)\n",
      "Requirement already satisfied: terminado>=0.8.3 in /opt/rh/rh-python36/root/usr/lib/python3.6/site-packages (from notebook>=4.4.1->widgetsnbextension~=3.4.0->ipywidgets>=7.0.0->pydeck>=0.1.dev5->streamlit->simpletransformers) (0.12.1)\n",
      "Requirement already satisfied: nbconvert in /opt/rh/rh-python36/root/usr/lib/python3.6/site-packages (from notebook>=4.4.1->widgetsnbextension~=3.4.0->ipywidgets>=7.0.0->pydeck>=0.1.dev5->streamlit->simpletransformers) (6.0.7)\n",
      "Requirement already satisfied: nest-asyncio>=1.5 in /opt/rh/rh-python36/root/usr/lib/python3.6/site-packages (from notebook>=4.4.1->widgetsnbextension~=3.4.0->ipywidgets>=7.0.0->pydeck>=0.1.dev5->streamlit->simpletransformers) (1.5.1)\n",
      "Requirement already satisfied: argon2-cffi in /opt/rh/rh-python36/root/usr/lib64/python3.6/site-packages (from notebook>=4.4.1->widgetsnbextension~=3.4.0->ipywidgets>=7.0.0->pydeck>=0.1.dev5->streamlit->simpletransformers) (21.1.0)\n",
      "Requirement already satisfied: Send2Trash>=1.8.0 in /opt/rh/rh-python36/root/usr/lib/python3.6/site-packages (from notebook>=4.4.1->widgetsnbextension~=3.4.0->ipywidgets>=7.0.0->pydeck>=0.1.dev5->streamlit->simpletransformers) (1.8.0)\n",
      "Requirement already satisfied: pyzmq>=17 in /opt/rh/rh-python36/root/usr/lib64/python3.6/site-packages (from notebook>=4.4.1->widgetsnbextension~=3.4.0->ipywidgets>=7.0.0->pydeck>=0.1.dev5->streamlit->simpletransformers) (17.1.2)\n",
      "Requirement already satisfied: prometheus-client in /opt/rh/rh-python36/root/usr/lib/python3.6/site-packages (from notebook>=4.4.1->widgetsnbextension~=3.4.0->ipywidgets>=7.0.0->pydeck>=0.1.dev5->streamlit->simpletransformers) (0.3.1)\n",
      "Requirement already satisfied: ptyprocess in /opt/rh/rh-python36/root/usr/lib/python3.6/site-packages (from terminado>=0.8.3->notebook>=4.4.1->widgetsnbextension~=3.4.0->ipywidgets>=7.0.0->pydeck>=0.1.dev5->streamlit->simpletransformers) (0.6.0)\n",
      "Requirement already satisfied: cffi>=1.0.0 in /opt/rh/rh-python36/root/usr/lib64/python3.6/site-packages (from argon2-cffi->notebook>=4.4.1->widgetsnbextension~=3.4.0->ipywidgets>=7.0.0->pydeck>=0.1.dev5->streamlit->simpletransformers) (1.11.5)\n",
      "Requirement already satisfied: pycparser in /opt/rh/rh-python36/root/usr/lib/python3.6/site-packages (from cffi>=1.0.0->argon2-cffi->notebook>=4.4.1->widgetsnbextension~=3.4.0->ipywidgets>=7.0.0->pydeck>=0.1.dev5->streamlit->simpletransformers) (2.18)\n",
      "Requirement already satisfied: s3transfer<0.4.0,>=0.3.0 in /opt/rh/rh-python36/root/usr/lib/python3.6/site-packages (from boto3->streamlit->simpletransformers) (0.3.3)\n",
      "Requirement already satisfied: testpath in /opt/rh/rh-python36/root/usr/lib/python3.6/site-packages (from nbconvert->notebook>=4.4.1->widgetsnbextension~=3.4.0->ipywidgets>=7.0.0->pydeck>=0.1.dev5->streamlit->simpletransformers) (0.3.1)\n",
      "Requirement already satisfied: jupyterlab-pygments in /opt/rh/rh-python36/root/usr/lib/python3.6/site-packages (from nbconvert->notebook>=4.4.1->widgetsnbextension~=3.4.0->ipywidgets>=7.0.0->pydeck>=0.1.dev5->streamlit->simpletransformers) (0.1.2)\n",
      "Requirement already satisfied: defusedxml in /opt/rh/rh-python36/root/usr/lib/python3.6/site-packages (from nbconvert->notebook>=4.4.1->widgetsnbextension~=3.4.0->ipywidgets>=7.0.0->pydeck>=0.1.dev5->streamlit->simpletransformers) (0.5.0)\n",
      "Requirement already satisfied: nbclient<0.6.0,>=0.5.0 in /opt/rh/rh-python36/root/usr/lib/python3.6/site-packages (from nbconvert->notebook>=4.4.1->widgetsnbextension~=3.4.0->ipywidgets>=7.0.0->pydeck>=0.1.dev5->streamlit->simpletransformers) (0.5.3)\n",
      "Requirement already satisfied: pandocfilters>=1.4.1 in /opt/rh/rh-python36/root/usr/lib/python3.6/site-packages (from nbconvert->notebook>=4.4.1->widgetsnbextension~=3.4.0->ipywidgets>=7.0.0->pydeck>=0.1.dev5->streamlit->simpletransformers) (1.4.2)\n",
      "Requirement already satisfied: bleach in /opt/rh/rh-python36/root/usr/lib/python3.6/site-packages (from nbconvert->notebook>=4.4.1->widgetsnbextension~=3.4.0->ipywidgets>=7.0.0->pydeck>=0.1.dev5->streamlit->simpletransformers) (1.5.0)\n",
      "Requirement already satisfied: mistune<2,>=0.8.1 in /opt/rh/rh-python36/root/usr/lib/python3.6/site-packages (from nbconvert->notebook>=4.4.1->widgetsnbextension~=3.4.0->ipywidgets>=7.0.0->pydeck>=0.1.dev5->streamlit->simpletransformers) (0.8.3)\n",
      "Requirement already satisfied: async-generator in /opt/rh/rh-python36/root/usr/lib/python3.6/site-packages (from nbclient<0.6.0,>=0.5.0->nbconvert->notebook>=4.4.1->widgetsnbextension~=3.4.0->ipywidgets>=7.0.0->pydeck>=0.1.dev5->streamlit->simpletransformers) (1.10)\n",
      "Requirement already satisfied: html5lib!=0.9999,!=0.99999,<0.99999999,>=0.999 in /opt/rh/rh-python36/root/usr/lib/python3.6/site-packages (from bleach->nbconvert->notebook>=4.4.1->widgetsnbextension~=3.4.0->ipywidgets>=7.0.0->pydeck>=0.1.dev5->streamlit->simpletransformers) (0.9999999)\n",
      "Requirement already satisfied: subprocess32>=3.5.3 in /opt/rh/rh-python36/root/usr/lib/python3.6/site-packages (from wandb->simpletransformers) (3.5.4)\n",
      "Requirement already satisfied: docker-pycreds>=0.4.0 in /opt/rh/rh-python36/root/usr/lib/python3.6/site-packages (from wandb->simpletransformers) (0.4.0)\n",
      "Requirement already satisfied: shortuuid>=0.5.0 in /opt/rh/rh-python36/root/usr/lib/python3.6/site-packages (from wandb->simpletransformers) (1.0.1)\n",
      "Requirement already satisfied: psutil>=5.0.0 in /opt/rh/rh-python36/root/usr/lib64/python3.6/site-packages (from wandb->simpletransformers) (5.6.3)\n",
      "Requirement already satisfied: nvidia-ml-py3>=7.352.0 in /opt/rh/rh-python36/root/usr/lib/python3.6/site-packages (from wandb->simpletransformers) (7.352.0)\n",
      "Requirement already satisfied: GitPython>=1.0.0 in /opt/rh/rh-python36/root/usr/lib/python3.6/site-packages (from wandb->simpletransformers) (3.1.8)\n",
      "Requirement already satisfied: configparser>=3.8.1 in /opt/rh/rh-python36/root/usr/lib/python3.6/site-packages (from wandb->simpletransformers) (5.0.0)\n",
      "Requirement already satisfied: sentry-sdk>=0.4.0 in /opt/rh/rh-python36/root/usr/lib/python3.6/site-packages (from wandb->simpletransformers) (0.17.3)\n",
      "Requirement already satisfied: gql==0.2.0 in /opt/rh/rh-python36/root/usr/lib/python3.6/site-packages (from wandb->simpletransformers) (0.2.0)\n",
      "Requirement already satisfied: graphql-core<2,>=0.5.0 in /opt/rh/rh-python36/root/usr/lib/python3.6/site-packages (from gql==0.2.0->wandb->simpletransformers) (1.1)\n",
      "Requirement already satisfied: promise<3,>=2.0 in /opt/rh/rh-python36/root/usr/lib/python3.6/site-packages (from gql==0.2.0->wandb->simpletransformers) (2.3)\n",
      "Requirement already satisfied: gitdb<5,>=4.0.1 in /opt/rh/rh-python36/root/usr/lib/python3.6/site-packages (from GitPython>=1.0.0->wandb->simpletransformers) (4.0.5)\n",
      "Requirement already satisfied: smmap<4,>=3.0.1 in /opt/rh/rh-python36/root/usr/lib/python3.6/site-packages (from gitdb<5,>=4.0.1->GitPython>=1.0.0->wandb->simpletransformers) (3.0.4)\n",
      "Requirement already satisfied: pathtools>=0.1.1 in /opt/rh/rh-python36/root/usr/lib/python3.6/site-packages (from watchdog->streamlit->simpletransformers) (0.1.2)\n",
      "\u001b[33mWARNING: You are using pip version 21.2.4; however, version 21.3.1 is available.\n",
      "You should consider upgrading via the '/opt/rh/rh-python36/root/usr/bin/python3 -m pip install --upgrade pip' command.\u001b[0m\n"
     ]
    }
   ],
   "source": [
    "# the code works in Python 3.6.\n",
    "!pip install simpletransformers"
   ]
  },
  {
   "cell_type": "code",
   "execution_count": 7,
   "id": "a3228529",
   "metadata": {},
   "outputs": [],
   "source": [
    "from sklearn.metrics import accuracy_score, f1_score, precision_score, recall_score, classification_report, confusion_matrix\n",
    "from sklearn.metrics import confusion_matrix\n",
    "from sklearn.metrics import classification_report\n",
    "from sklearn.metrics import roc_auc_score\n",
    "import sklearn\n",
    "import pandas as pd \n",
    "import io\n",
    "from sklearn.model_selection import train_test_split\n",
    "from simpletransformers.classification import ClassificationModel, ClassificationArgs\n",
    "\n",
    "import warnings\n",
    "warnings.filterwarnings('ignore')\n",
    "\n",
    "# input/output data directory\n",
    "data_dir = f'./data_sample'\n",
    "out_dir = f'./output'\n",
    "\n",
    "# the file which stores the predictions \n",
    "pred_out_file = f'{out_dir}/preds.csv'\n",
    "\n",
    "# The positive label for binary classification\n",
    "pos_label = 1"
   ]
  },
  {
   "cell_type": "code",
   "execution_count": 9,
   "id": "fea503b2",
   "metadata": {},
   "outputs": [],
   "source": [
    "def load_data(dat_file, is_train):\n",
    "    global pos_label\n",
    "    if is_train:\n",
    "        df= pd.read_csv(dat_file, usecols=['text', 'label']).sample(frac=1).reset_index(drop=True)\n",
    "    else:\n",
    "        df= pd.read_csv(dat_file, usecols=['text', 'label'])\n",
    "    df = df.dropna()\n",
    "    print(df.head())\n",
    "    df['label'] = (df['label'] == pos_label).astype(int)\n",
    "    print(df.head())\n",
    "    print('size:', len(df))\n",
    "    return df"
   ]
  },
  {
   "cell_type": "code",
   "execution_count": 11,
   "id": "6d98733d",
   "metadata": {},
   "outputs": [
    {
     "name": "stdout",
     "output_type": "stream",
     "text": [
      "                     text  label\n",
      "0      This is an example      1\n",
      "1  This is not an example      0\n",
      "                     text  label\n",
      "0      This is an example      1\n",
      "1  This is not an example      0\n",
      "size: 2\n",
      "                     text  label\n",
      "0      This is an example      1\n",
      "1  This is not an example      0\n",
      "                     text  label\n",
      "0      This is an example      1\n",
      "1  This is not an example      0\n",
      "size: 2\n",
      "                     text  label\n",
      "0      This is an example      1\n",
      "1  This is not an example      0\n",
      "                     text  label\n",
      "0      This is an example      1\n",
      "1  This is not an example      0\n",
      "size: 2\n"
     ]
    }
   ],
   "source": [
    "df_train = load_data(f'{data_dir}/sample.csv', is_train=True)\n",
    "df_val = load_data(f'{data_dir}/sample.csv', is_train=False)\n",
    "df_test = load_data(f'{data_dir}/sample.csv', is_train=False)"
   ]
  },
  {
   "cell_type": "code",
   "execution_count": 12,
   "id": "f7cc3550",
   "metadata": {},
   "outputs": [],
   "source": [
    "# set the model hyperparameters\n",
    "model_args = ClassificationArgs()\n",
    "\n",
    "# model arch\n",
    "model_args.sliding_window = False\n",
    "model_args.max_seq_length = 512\n",
    "model_args.train_batch_size = 16\n",
    "model_args.num_train_epochs = 10\n",
    "model_args.learning_rate = 2e-05\n",
    "\n",
    "# input data process\n",
    "model_args.reprocess_input_data = True\n",
    "model_args.overwrite_output_dir = True\n",
    "\n",
    "# save checkpoints\n",
    "model_args.save_model_every_epoch = True\n",
    "model_args.save_steps = -1\n",
    "model_args.best_model_dir = f'{out_dir}/best_model'\n",
    "\n",
    "# early stopping config\n",
    "#model_args.use_early_stopping = True\n",
    "#model_args.early_stopping_consider_epochs = True"
   ]
  },
  {
   "cell_type": "code",
   "execution_count": 13,
   "id": "a0afbd64",
   "metadata": {
    "scrolled": true
   },
   "outputs": [
    {
     "data": {
      "application/vnd.jupyter.widget-view+json": {
       "model_id": "8e83bd553b0b4e96baa1c50edc06c46c",
       "version_major": 2,
       "version_minor": 0
      },
      "text/plain": [
       "HBox(children=(FloatProgress(value=0.0, description='Downloading', max=481.0, style=ProgressStyle(description_…"
      ]
     },
     "metadata": {},
     "output_type": "display_data"
    },
    {
     "name": "stdout",
     "output_type": "stream",
     "text": [
      "\n"
     ]
    },
    {
     "data": {
      "application/vnd.jupyter.widget-view+json": {
       "model_id": "909032666688435a9cdadfa9d94cdfa2",
       "version_major": 2,
       "version_minor": 0
      },
      "text/plain": [
       "HBox(children=(FloatProgress(value=0.0, description='Downloading', max=501200538.0, style=ProgressStyle(descri…"
      ]
     },
     "metadata": {},
     "output_type": "display_data"
    },
    {
     "name": "stdout",
     "output_type": "stream",
     "text": [
      "\n"
     ]
    },
    {
     "name": "stderr",
     "output_type": "stream",
     "text": [
      "Some weights of the model checkpoint at roberta-base were not used when initializing RobertaForSequenceClassification: ['lm_head.bias', 'lm_head.dense.weight', 'lm_head.dense.bias', 'lm_head.layer_norm.weight', 'lm_head.layer_norm.bias', 'lm_head.decoder.weight']\n",
      "- This IS expected if you are initializing RobertaForSequenceClassification from the checkpoint of a model trained on another task or with another architecture (e.g. initializing a BertForSequenceClassification model from a BertForPreTraining model).\n",
      "- This IS NOT expected if you are initializing RobertaForSequenceClassification from the checkpoint of a model that you expect to be exactly identical (initializing a BertForSequenceClassification model from a BertForSequenceClassification model).\n",
      "Some weights of RobertaForSequenceClassification were not initialized from the model checkpoint at roberta-base and are newly initialized: ['classifier.dense.weight', 'classifier.dense.bias', 'classifier.out_proj.weight', 'classifier.out_proj.bias']\n",
      "You should probably TRAIN this model on a down-stream task to be able to use it for predictions and inference.\n"
     ]
    },
    {
     "data": {
      "application/vnd.jupyter.widget-view+json": {
       "model_id": "0c34fef8a1d5454caa1641a606889425",
       "version_major": 2,
       "version_minor": 0
      },
      "text/plain": [
       "HBox(children=(FloatProgress(value=0.0, description='Downloading', max=898823.0, style=ProgressStyle(descripti…"
      ]
     },
     "metadata": {},
     "output_type": "display_data"
    },
    {
     "name": "stdout",
     "output_type": "stream",
     "text": [
      "\n"
     ]
    },
    {
     "data": {
      "application/vnd.jupyter.widget-view+json": {
       "model_id": "caa33264a51d47dfa2100b669f2a9ed1",
       "version_major": 2,
       "version_minor": 0
      },
      "text/plain": [
       "HBox(children=(FloatProgress(value=0.0, description='Downloading', max=456318.0, style=ProgressStyle(descripti…"
      ]
     },
     "metadata": {},
     "output_type": "display_data"
    },
    {
     "name": "stdout",
     "output_type": "stream",
     "text": [
      "\n"
     ]
    },
    {
     "data": {
      "application/vnd.jupyter.widget-view+json": {
       "model_id": "c85236d003f94837973823a21656c6d1",
       "version_major": 2,
       "version_minor": 0
      },
      "text/plain": [
       "HBox(children=(FloatProgress(value=0.0, description='Downloading', max=1355863.0, style=ProgressStyle(descript…"
      ]
     },
     "metadata": {},
     "output_type": "display_data"
    },
    {
     "name": "stdout",
     "output_type": "stream",
     "text": [
      "\n"
     ]
    }
   ],
   "source": [
    "model = ClassificationModel(\"roberta\", \"roberta-base\", num_labels=2, use_cuda=True, args=model_args) "
   ]
  },
  {
   "cell_type": "code",
   "execution_count": 14,
   "id": "ba90f696",
   "metadata": {},
   "outputs": [
    {
     "data": {
      "application/vnd.jupyter.widget-view+json": {
       "model_id": "d44b054bd2e54e96a433f9a2b0db3704",
       "version_major": 2,
       "version_minor": 0
      },
      "text/plain": [
       "HBox(children=(FloatProgress(value=0.0, max=2.0), HTML(value='')))"
      ]
     },
     "metadata": {},
     "output_type": "display_data"
    },
    {
     "name": "stdout",
     "output_type": "stream",
     "text": [
      "\n"
     ]
    },
    {
     "data": {
      "application/vnd.jupyter.widget-view+json": {
       "model_id": "30c2a7efbe6a47a2ae96c0dc764461fa",
       "version_major": 2,
       "version_minor": 0
      },
      "text/plain": [
       "HBox(children=(FloatProgress(value=0.0, description='Epoch', max=10.0, style=ProgressStyle(description_width='…"
      ]
     },
     "metadata": {},
     "output_type": "display_data"
    },
    {
     "data": {
      "application/vnd.jupyter.widget-view+json": {
       "model_id": "83bf0e52fe9e416ea867e993f42cbf40",
       "version_major": 2,
       "version_minor": 0
      },
      "text/plain": [
       "HBox(children=(FloatProgress(value=0.0, description='Running Epoch 0 of 10', max=1.0, style=ProgressStyle(desc…"
      ]
     },
     "metadata": {},
     "output_type": "display_data"
    },
    {
     "name": "stdout",
     "output_type": "stream",
     "text": [
      "\n"
     ]
    },
    {
     "data": {
      "application/vnd.jupyter.widget-view+json": {
       "model_id": "f488194412c840688f99351554627460",
       "version_major": 2,
       "version_minor": 0
      },
      "text/plain": [
       "HBox(children=(FloatProgress(value=0.0, description='Running Epoch 1 of 10', max=1.0, style=ProgressStyle(desc…"
      ]
     },
     "metadata": {},
     "output_type": "display_data"
    },
    {
     "name": "stdout",
     "output_type": "stream",
     "text": [
      "\n"
     ]
    },
    {
     "data": {
      "application/vnd.jupyter.widget-view+json": {
       "model_id": "bc732508acee4bac969e8d7b6a669ef5",
       "version_major": 2,
       "version_minor": 0
      },
      "text/plain": [
       "HBox(children=(FloatProgress(value=0.0, description='Running Epoch 2 of 10', max=1.0, style=ProgressStyle(desc…"
      ]
     },
     "metadata": {},
     "output_type": "display_data"
    },
    {
     "name": "stdout",
     "output_type": "stream",
     "text": [
      "\n"
     ]
    },
    {
     "data": {
      "application/vnd.jupyter.widget-view+json": {
       "model_id": "00be71a54fc3477caeaf1f77876436af",
       "version_major": 2,
       "version_minor": 0
      },
      "text/plain": [
       "HBox(children=(FloatProgress(value=0.0, description='Running Epoch 3 of 10', max=1.0, style=ProgressStyle(desc…"
      ]
     },
     "metadata": {},
     "output_type": "display_data"
    },
    {
     "name": "stdout",
     "output_type": "stream",
     "text": [
      "\n"
     ]
    },
    {
     "data": {
      "application/vnd.jupyter.widget-view+json": {
       "model_id": "b30df0f741c9402cb14e81e1efe14484",
       "version_major": 2,
       "version_minor": 0
      },
      "text/plain": [
       "HBox(children=(FloatProgress(value=0.0, description='Running Epoch 4 of 10', max=1.0, style=ProgressStyle(desc…"
      ]
     },
     "metadata": {},
     "output_type": "display_data"
    },
    {
     "name": "stdout",
     "output_type": "stream",
     "text": [
      "\n"
     ]
    },
    {
     "data": {
      "application/vnd.jupyter.widget-view+json": {
       "model_id": "fe2af4fca47c486b82ee40fed12cf016",
       "version_major": 2,
       "version_minor": 0
      },
      "text/plain": [
       "HBox(children=(FloatProgress(value=0.0, description='Running Epoch 5 of 10', max=1.0, style=ProgressStyle(desc…"
      ]
     },
     "metadata": {},
     "output_type": "display_data"
    },
    {
     "name": "stdout",
     "output_type": "stream",
     "text": [
      "\n"
     ]
    },
    {
     "data": {
      "application/vnd.jupyter.widget-view+json": {
       "model_id": "6df2b4e4a56b4363b98df8eb6325ae6a",
       "version_major": 2,
       "version_minor": 0
      },
      "text/plain": [
       "HBox(children=(FloatProgress(value=0.0, description='Running Epoch 6 of 10', max=1.0, style=ProgressStyle(desc…"
      ]
     },
     "metadata": {},
     "output_type": "display_data"
    },
    {
     "name": "stdout",
     "output_type": "stream",
     "text": [
      "\n"
     ]
    },
    {
     "data": {
      "application/vnd.jupyter.widget-view+json": {
       "model_id": "cb541286b02b4c8e83d5b4a96c9804bc",
       "version_major": 2,
       "version_minor": 0
      },
      "text/plain": [
       "HBox(children=(FloatProgress(value=0.0, description='Running Epoch 7 of 10', max=1.0, style=ProgressStyle(desc…"
      ]
     },
     "metadata": {},
     "output_type": "display_data"
    },
    {
     "name": "stdout",
     "output_type": "stream",
     "text": [
      "\n"
     ]
    },
    {
     "data": {
      "application/vnd.jupyter.widget-view+json": {
       "model_id": "9be913a13e39464aaecd649aef1b20d2",
       "version_major": 2,
       "version_minor": 0
      },
      "text/plain": [
       "HBox(children=(FloatProgress(value=0.0, description='Running Epoch 8 of 10', max=1.0, style=ProgressStyle(desc…"
      ]
     },
     "metadata": {},
     "output_type": "display_data"
    },
    {
     "name": "stdout",
     "output_type": "stream",
     "text": [
      "\n"
     ]
    },
    {
     "data": {
      "application/vnd.jupyter.widget-view+json": {
       "model_id": "e05b0a271784496e8f0cd2218a5b4c5e",
       "version_major": 2,
       "version_minor": 0
      },
      "text/plain": [
       "HBox(children=(FloatProgress(value=0.0, description='Running Epoch 9 of 10', max=1.0, style=ProgressStyle(desc…"
      ]
     },
     "metadata": {},
     "output_type": "display_data"
    },
    {
     "name": "stdout",
     "output_type": "stream",
     "text": [
      "\n",
      "\n"
     ]
    },
    {
     "data": {
      "text/plain": [
       "(10, 0.7042608141899109)"
      ]
     },
     "execution_count": 14,
     "metadata": {},
     "output_type": "execute_result"
    }
   ],
   "source": [
    "model.train_model(df_train, output_dir=out_dir)"
   ]
  },
  {
   "cell_type": "code",
   "execution_count": 17,
   "id": "df2979e1",
   "metadata": {},
   "outputs": [
    {
     "data": {
      "application/vnd.jupyter.widget-view+json": {
       "model_id": "f087bcbe2f224a92bc6fc1fd7983af1e",
       "version_major": 2,
       "version_minor": 0
      },
      "text/plain": [
       "HBox(children=(FloatProgress(value=0.0, max=2.0), HTML(value='')))"
      ]
     },
     "metadata": {},
     "output_type": "display_data"
    },
    {
     "name": "stdout",
     "output_type": "stream",
     "text": [
      "\n"
     ]
    },
    {
     "data": {
      "application/vnd.jupyter.widget-view+json": {
       "model_id": "ab08662f50e14035b44b3c29d220f8c8",
       "version_major": 2,
       "version_minor": 0
      },
      "text/plain": [
       "HBox(children=(FloatProgress(value=0.0, max=1.0), HTML(value='')))"
      ]
     },
     "metadata": {},
     "output_type": "display_data"
    },
    {
     "name": "stdout",
     "output_type": "stream",
     "text": [
      "\n",
      "              precision    recall  f1-score   support\n",
      "\n",
      "           0       0.50      1.00      0.67         1\n",
      "           1       0.00      0.00      0.00         1\n",
      "\n",
      "    accuracy                           0.50         2\n",
      "   macro avg       0.25      0.50      0.33         2\n",
      "weighted avg       0.25      0.50      0.33         2\n",
      "\n"
     ]
    }
   ],
   "source": [
    "# test the model\n",
    "test_text=list(df_test['text'])\n",
    "Y_test=df_test['label']\n",
    "predictions, raw_outputs = model.predict(test_text)\n",
    "\n",
    "report = classification_report(Y_test, predictions)\n",
    "f = f1_score(Y_test, predictions)\n",
    "p = precision_score(Y_test, predictions)\n",
    "r = recall_score(Y_test, predictions)\n",
    "print(report)"
   ]
  }
 ],
 "metadata": {
  "kernelspec": {
   "display_name": "Python 3",
   "language": "python",
   "name": "python3"
  },
  "language_info": {
   "codemirror_mode": {
    "name": "ipython",
    "version": 3
   },
   "file_extension": ".py",
   "mimetype": "text/x-python",
   "name": "python",
   "nbconvert_exporter": "python",
   "pygments_lexer": "ipython3",
   "version": "3.6.12"
  }
 },
 "nbformat": 4,
 "nbformat_minor": 5
}
